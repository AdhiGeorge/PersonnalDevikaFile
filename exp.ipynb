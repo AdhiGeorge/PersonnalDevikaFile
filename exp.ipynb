{
 "cells": [
  {
   "cell_type": "code",
   "execution_count": 1,
   "metadata": {},
   "outputs": [
    {
     "name": "stdout",
     "output_type": "stream",
     "text": [
      "Yes, many Azure services support **customer-managed keys (CMK)**, allowing you to bring your own encryption keys for added control and security over your data. These keys are typically stored in **Azure Key Vault**, a secure cloud repository for secrets, keys, and certificates. Below are examples of Azure services that support customer-managed keys:\n",
      "\n",
      "### 1. **Azure Storage (Blob, File, Table, and Queue)**\n",
      "   - Supports CMK for encrypting data at rest using Azure Key Vault.\n",
      "   - Provides enhanced security where you can rotate keys or revoke them at any time.\n",
      "\n",
      "### 2. **Azure SQL Database**\n",
      "   - Supports **Always Encrypted** feature with customer-managed keys to encrypt sensitive data.\n",
      "   - Integration with Azure Key Vault for managing column-level encryption keys.\n",
      "\n",
      "### 3. **Azure Cosmos DB**\n",
      "   - Offers the ability to use customer-managed keys for data encryption at rest to ensure greater data security.\n",
      "\n",
      "### 4. **Azure Virtual Machines (Disk Encryption)**\n",
      "   - Can use customer-managed keys to encrypt disks attached to Virtual Machines with **Azure Disk Encryption** or **Server-Side Encryption**.\n",
      "\n",
      "### 5. **Azure Synapse Analytics**\n",
      "   - Supports CMK for encrypting data with customer-defined encryption keys stored in Azure Key Vault.\n",
      "\n",
      "### 6. **Azure Data Lake Storage**\n",
      "   - Data encryption at rest with customer-managed keys via integration with Azure Key Vault.\n",
      "\n",
      "### 7. **Azure Managed Disks**\n",
      "   - Supports encryption-at-rest with customer-managed keys stored in Azure Key Vault.\n",
      "\n",
      "### 8. **Azure Kubernetes Service (AKS)**\n",
      "   - Encrypts data in **etcd** (the AKS-managed cluster metadata store) using customer-managed keys from Azure Key Vault.\n",
      "\n",
      "### 9. **Azure Cognitive Services**\n",
      "   - Certain Cognitive Services allow for encryption of data at rest using customer-managed keys (e.g., Azure Form Recognizer).\n",
      "\n",
      "### 10. **Azure Backup**\n",
      "   - Allows using customer-managed keys to encrypt backed-up data.\n",
      "\n",
      "### 11. **Azure Key Vault itself**\n",
      "   - Though it's the central repository for managing CMK, Key Vault's secrets and keys can also be encrypted using customer-managed keys.\n",
      "\n",
      "### 12. **Azure Purview**\n",
      "   - Supports customer-managed keys for encrypting sensitive data.\n",
      "\n",
      "### 13. **Azure Kubernetes Security Features**\n",
      "   - CMKs can be used to encrypt secrets for containers and applications.\n",
      "\n",
      "### 14. **Azure Machine Learning**\n",
      "   - Offers encryption for workspace resources and artifacts with customer-managed keys.\n",
      "\n",
      "### Benefits of Customer-Managed Keys:\n",
      "- **Control:** You can revoke or rotate keys whenever needed.\n",
      "- **Compliance:** Helps meet regulatory requirements and industry standards.\n",
      "- **Security:** Ensures encryption keys are fully managed by you, providing a higher degree of data protection.\n",
      "\n",
      "Azure's support for customer-managed keys is extensive across its services, enabling a unified strategy for data security. Always refer to the specific service's documentation to confirm its CMK capabilities and implementation details.\n"
     ]
    }
   ],
   "source": [
    "import os\n",
    "from openai import AzureOpenAI\n",
    "from dotenv import load_dotenv\n",
    "\n",
    "load_dotenv()\n",
    "\n",
    "client = AzureOpenAI(\n",
    "  azure_endpoint = os.getenv(\"AZURE_OPENAI_ENDPOINT\"), \n",
    "  api_key=os.getenv(\"AZURE_OPENAI_API_KEY\"),  \n",
    "  api_version=\"2025-01-01-preview\"\n",
    ")\n",
    "\n",
    "response = client.chat.completions.create(\n",
    "    model=\"gpt-4o\", # model = \"deployment_name\".\n",
    "    messages=[\n",
    "        {\"role\": \"system\", \"content\": \"You are a helpful assistant.\"},\n",
    "        {\"role\": \"user\", \"content\": \"Does Azure OpenAI support customer managed keys?\"},\n",
    "        {\"role\": \"assistant\", \"content\": \"Yes, customer managed keys are supported by Azure OpenAI.\"},\n",
    "        {\"role\": \"user\", \"content\": \"Do other Azure services support this too?\"}\n",
    "    ]\n",
    ")\n",
    "\n",
    "print(response.choices[0].message.content)"
   ]
  },
  {
   "cell_type": "code",
   "execution_count": null,
   "metadata": {},
   "outputs": [],
   "source": []
  }
 ],
 "metadata": {
  "kernelspec": {
   "display_name": "venv_py310_new",
   "language": "python",
   "name": "python3"
  },
  "language_info": {
   "codemirror_mode": {
    "name": "ipython",
    "version": 3
   },
   "file_extension": ".py",
   "mimetype": "text/x-python",
   "name": "python",
   "nbconvert_exporter": "python",
   "pygments_lexer": "ipython3",
   "version": "3.10.11"
  }
 },
 "nbformat": 4,
 "nbformat_minor": 2
}
