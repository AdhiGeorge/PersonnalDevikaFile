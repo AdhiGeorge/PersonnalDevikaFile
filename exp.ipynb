{
 "cells": [
  {
   "cell_type": "code",
   "execution_count": 1,
   "metadata": {},
   "outputs": [
    {
     "name": "stdout",
     "output_type": "stream",
     "text": [
      "Yes, many Azure services support **customer-managed keys (CMK)**, allowing you to bring your own encryption keys for added control and security over your data. These keys are typically stored in **Azure Key Vault**, a secure cloud repository for secrets, keys, and certificates. Below are examples of Azure services that support customer-managed keys:\n",
      "\n",
      "### 1. **Azure Storage (Blob, File, Table, and Queue)**\n",
      "   - Supports CMK for encrypting data at rest using Azure Key Vault.\n",
      "   - Provides enhanced security where you can rotate keys or revoke them at any time.\n",
      "\n",
      "### 2. **Azure SQL Database**\n",
      "   - Supports **Always Encrypted** feature with customer-managed keys to encrypt sensitive data.\n",
      "   - Integration with Azure Key Vault for managing column-level encryption keys.\n",
      "\n",
      "### 3. **Azure Cosmos DB**\n",
      "   - Offers the ability to use customer-managed keys for data encryption at rest to ensure greater data security.\n",
      "\n",
      "### 4. **Azure Virtual Machines (Disk Encryption)**\n",
      "   - Can use customer-managed keys to encrypt disks attached to Virtual Machines with **Azure Disk Encryption** or **Server-Side Encryption**.\n",
      "\n",
      "### 5. **Azure Synapse Analytics**\n",
      "   - Supports CMK for encrypting data with customer-defined encryption keys stored in Azure Key Vault.\n",
      "\n",
      "### 6. **Azure Data Lake Storage**\n",
      "   - Data encryption at rest with customer-managed keys via integration with Azure Key Vault.\n",
      "\n",
      "### 7. **Azure Managed Disks**\n",
      "   - Supports encryption-at-rest with customer-managed keys stored in Azure Key Vault.\n",
      "\n",
      "### 8. **Azure Kubernetes Service (AKS)**\n",
      "   - Encrypts data in **etcd** (the AKS-managed cluster metadata store) using customer-managed keys from Azure Key Vault.\n",
      "\n",
      "### 9. **Azure Cognitive Services**\n",
      "   - Certain Cognitive Services allow for encryption of data at rest using customer-managed keys (e.g., Azure Form Recognizer).\n",
      "\n",
      "### 10. **Azure Backup**\n",
      "   - Allows using customer-managed keys to encrypt backed-up data.\n",
      "\n",
      "### 11. **Azure Key Vault itself**\n",
      "   - Though it's the central repository for managing CMK, Key Vault's secrets and keys can also be encrypted using customer-managed keys.\n",
      "\n",
      "### 12. **Azure Purview**\n",
      "   - Supports customer-managed keys for encrypting sensitive data.\n",
      "\n",
      "### 13. **Azure Kubernetes Security Features**\n",
      "   - CMKs can be used to encrypt secrets for containers and applications.\n",
      "\n",
      "### 14. **Azure Machine Learning**\n",
      "   - Offers encryption for workspace resources and artifacts with customer-managed keys.\n",
      "\n",
      "### Benefits of Customer-Managed Keys:\n",
      "- **Control:** You can revoke or rotate keys whenever needed.\n",
      "- **Compliance:** Helps meet regulatory requirements and industry standards.\n",
      "- **Security:** Ensures encryption keys are fully managed by you, providing a higher degree of data protection.\n",
      "\n",
      "Azure's support for customer-managed keys is extensive across its services, enabling a unified strategy for data security. Always refer to the specific service's documentation to confirm its CMK capabilities and implementation details.\n"
     ]
    }
   ],
   "source": [
    "import os\n",
    "from openai import AzureOpenAI\n",
    "from dotenv import load_dotenv\n",
    "\n",
    "load_dotenv()\n",
    "\n",
    "client = AzureOpenAI(\n",
    "  azure_endpoint = os.getenv(\"AZURE_OPENAI_ENDPOINT\"), \n",
    "  api_key=os.getenv(\"AZURE_OPENAI_API_KEY\"),  \n",
    "  api_version=\"2025-01-01-preview\"\n",
    ")\n",
    "\n",
    "response = client.chat.completions.create(\n",
    "    model=\"gpt-4o\", # model = \"deployment_name\".\n",
    "    messages=[\n",
    "        {\"role\": \"system\", \"content\": \"You are a helpful assistant.\"},\n",
    "        {\"role\": \"user\", \"content\": \"Does Azure OpenAI support customer managed keys?\"},\n",
    "        {\"role\": \"assistant\", \"content\": \"Yes, customer managed keys are supported by Azure OpenAI.\"},\n",
    "        {\"role\": \"user\", \"content\": \"Do other Azure services support this too?\"}\n",
    "    ]\n",
    ")\n",
    "\n",
    "print(response.choices[0].message.content)"
   ]
  },
  {
   "cell_type": "code",
   "execution_count": 3,
   "metadata": {},
   "outputs": [
    {
     "name": "stdout",
     "output_type": "stream",
     "text": [
      "Dog barks\n",
      "Cat meows\n"
     ]
    }
   ],
   "source": [
    "class Animal:\n",
    "    def speak(self):\n",
    "        print(\"Animal speaks\")\n",
    "\n",
    "class Dog():\n",
    "    def speak(self):\n",
    "        print(\"Dog barks\")\n",
    "\n",
    "class Cat():\n",
    "    def speak(self):\n",
    "        print(\"Cat meows\")\n",
    "\n",
    "# Polymorphism in action\n",
    "for animal in [Dog(), Cat()]:\n",
    "    animal.speak()"
   ]
  },
  {
   "cell_type": "code",
   "execution_count": 4,
   "metadata": {},
   "outputs": [
    {
     "name": "stdout",
     "output_type": "stream",
     "text": [
      "Dog barks\n",
      "Cat meows\n"
     ]
    }
   ],
   "source": [
    "class Animal:\n",
    "    def speak(self):\n",
    "        print(\"Animal speaks\")\n",
    "\n",
    "class Dog(Animal):\n",
    "    def speak(self):\n",
    "        print(\"Dog barks\")\n",
    "\n",
    "class Cat(Animal):\n",
    "    def speak(self):\n",
    "        print(\"Cat meows\")\n",
    "\n",
    "# Polymorphism in action\n",
    "for animal in [Dog(), Cat()]:\n",
    "    animal.speak()"
   ]
  },
  {
   "cell_type": "code",
   "execution_count": 5,
   "metadata": {},
   "outputs": [
    {
     "name": "stdout",
     "output_type": "stream",
     "text": [
      "True\n",
      "True\n"
     ]
    }
   ],
   "source": [
    "s1 = \"hello\"\n",
    "s2 = \"hello\"\n",
    "print(s1 == s2)  # True (same value)\n",
    "print(s1 is s2)  # True (interned, same object)"
   ]
  },
  {
   "cell_type": "code",
   "execution_count": 7,
   "metadata": {},
   "outputs": [
    {
     "data": {
      "text/plain": [
       "(2592148033568, 2592148033568)"
      ]
     },
     "execution_count": 7,
     "metadata": {},
     "output_type": "execute_result"
    }
   ],
   "source": [
    "id(s1), id(s2)"
   ]
  },
  {
   "cell_type": "code",
   "execution_count": 8,
   "metadata": {},
   "outputs": [
    {
     "name": "stdout",
     "output_type": "stream",
     "text": [
      "True\n",
      "True\n",
      "True\n",
      "False\n"
     ]
    }
   ],
   "source": [
    "x = 256\n",
    "y = 256\n",
    "print(x == y)  # True (same value)\n",
    "print(x is y)  # True (interned, same object)\n",
    "\n",
    "# Example 2: Lists\n",
    "a = [1, 2]\n",
    "b = [1, 2]\n",
    "print(a == b)  # True (same value)\n",
    "print(a is b)  # False (different objects)"
   ]
  },
  {
   "cell_type": "code",
   "execution_count": 10,
   "metadata": {},
   "outputs": [
    {
     "name": "stdout",
     "output_type": "stream",
     "text": [
      "compute_sum took 0.0190 seconds to execute\n"
     ]
    }
   ],
   "source": [
    "import time\n",
    "from functools import wraps\n",
    "\n",
    "def log_execution_time(func):\n",
    "    @wraps(func)\n",
    "    def wrapper(*args, **kwargs):\n",
    "        start_time = time.time()\n",
    "        result = func(*args, **kwargs)\n",
    "        end_time = time.time()\n",
    "        print(f\"{func.__name__} took {end_time - start_time:.4f} seconds to execute\")\n",
    "        return result\n",
    "    return wrapper\n",
    "\n",
    "@log_execution_time\n",
    "def compute_sum(n):\n",
    "    return sum(range(n))\n",
    "\n",
    "# Usage\n",
    "result = compute_sum(1000000)  # Outputs: compute_sum took X.XXXX seconds to execute"
   ]
  },
  {
   "cell_type": "code",
   "execution_count": null,
   "metadata": {},
   "outputs": [],
   "source": []
  },
  {
   "cell_type": "code",
   "execution_count": null,
   "metadata": {},
   "outputs": [],
   "source": []
  }
 ],
 "metadata": {
  "kernelspec": {
   "display_name": "Python 3",
   "language": "python",
   "name": "python3"
  },
  "language_info": {
   "codemirror_mode": {
    "name": "ipython",
    "version": 3
   },
   "file_extension": ".py",
   "mimetype": "text/x-python",
   "name": "python",
   "nbconvert_exporter": "python",
   "pygments_lexer": "ipython3",
   "version": "3.13.2"
  }
 },
 "nbformat": 4,
 "nbformat_minor": 2
}
